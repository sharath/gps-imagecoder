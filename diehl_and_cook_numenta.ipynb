{
 "cells": [
  {
   "cell_type": "code",
   "execution_count": null,
   "metadata": {},
   "outputs": [],
   "source": [
    "import torch\n",
    "import pickle\n",
    "import matplotlib.pyplot as plt\n",
    "from IPython.display import clear_output\n",
    "from bindsnet.models import DiehlAndCook2015\n",
    "from bindsnet.network.monitors import Monitor\n",
    "from bindsnet.encoding import poisson\n",
    "import time as T\n",
    "plt.rcParams[\"figure.figsize\"] = (20, 20)\n",
    "lfname = 'logs/' + str(int(T.time())) + '_numenta.txt'"
   ]
  },
  {
   "cell_type": "code",
   "execution_count": null,
   "metadata": {},
   "outputs": [],
   "source": [
    "time = 500\n",
    "plot = True\n",
    "network = DiehlAndCook2015(5000, dt=1.0, norm=48.95, inh=3)\n",
    "exc_monitor = Monitor(network.layers['Ae'], ['v', 's'], time=time)\n",
    "network.add_monitor(exc_monitor, name='exc')"
   ]
  },
  {
   "cell_type": "code",
   "execution_count": null,
   "metadata": {},
   "outputs": [],
   "source": [
    "def log(msg):\n",
    "    print(msg, end='')\n",
    "    with open(lfname, 'a') as f:\n",
    "        f.write(msg)"
   ]
  },
  {
   "cell_type": "code",
   "execution_count": null,
   "metadata": {},
   "outputs": [],
   "source": [
    "def detect(spikes):\n",
    "    cols = torch.sum(spikes, dim=1)\n",
    "    for i, v in enumerate(cols):\n",
    "        if v != 0:\n",
    "            log(f'Neuron: {i} Spikes: {int(v)}\\n')"
   ]
  },
  {
   "cell_type": "code",
   "execution_count": null,
   "metadata": {},
   "outputs": [],
   "source": [
    "tracks = [pickle.load(open('encoding/track1_numenta.p', 'rb')) * 255,\n",
    "          pickle.load(open('encoding/track2_numenta.p', 'rb')) * 255,\n",
    "          pickle.load(open('encoding/track3_numenta.p', 'rb')) * 255]"
   ]
  },
  {
   "cell_type": "code",
   "execution_count": null,
   "metadata": {
    "scrolled": false
   },
   "outputs": [],
   "source": [
    "for track_n in range(len(tracks)):\n",
    "    log(f'Starting Training on Track {track_n}\\n')\n",
    "    track = tracks[track_n]\n",
    "    for i in range(4, len(track)):\n",
    "        orig = torch.cat((track[i-4], track[i-3], track[i-2], track[i-1], track[i]))\n",
    "        pt = poisson(orig, time)\n",
    "        \n",
    "        inpts = {'X': pt}\n",
    "\n",
    "        network.run(inpts=inpts, time=time)\n",
    "        spikes = exc_monitor.get('s')\n",
    "        voltage = exc_monitor.get('v')\n",
    "        network.reset_()\n",
    "        \n",
    "        log(f'Iteration {i - 3}\\n')\n",
    "        detect(spikes)\n",
    "        if plot:\n",
    "            fig = plt.figure(figsize=(20, 20))\n",
    "            plt.subplot(2, 2, 1)\n",
    "            plt.imshow(spikes, cmap='binary')\n",
    "            plt.subplot(2, 2, 2)\n",
    "            plt.imshow(orig.view(125, 40), cmap='gist_gray')\n",
    "            plt.show()\n",
    "            \n",
    "            clear_output(wait=True)"
   ]
  },
  {
   "cell_type": "code",
   "execution_count": null,
   "metadata": {},
   "outputs": [],
   "source": [
    "network.save('trained.net')"
   ]
  }
 ],
 "metadata": {
  "kernelspec": {
   "display_name": "Python 3",
   "language": "python",
   "name": "python3"
  },
  "language_info": {
   "codemirror_mode": {
    "name": "ipython",
    "version": 3
   },
   "file_extension": ".py",
   "mimetype": "text/x-python",
   "name": "python",
   "nbconvert_exporter": "python",
   "pygments_lexer": "ipython3",
   "version": "3.6.5"
  }
 },
 "nbformat": 4,
 "nbformat_minor": 2
}
