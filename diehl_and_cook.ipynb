{
 "cells": [
  {
   "cell_type": "code",
   "execution_count": 1,
   "metadata": {},
   "outputs": [],
   "source": [
    "import torch\n",
    "import pickle\n",
    "import matplotlib.pyplot as plt\n",
    "from IPython.display import clear_output\n",
    "from bindsnet.models import DiehlAndCook2015\n",
    "from bindsnet.network.monitors import Monitor\n",
    "from bindsnet.encoding import poisson\n",
    "from encoder import *\n",
    "plt.rcParams[\"figure.figsize\"] = (20, 20)"
   ]
  },
  {
   "cell_type": "code",
   "execution_count": 2,
   "metadata": {},
   "outputs": [],
   "source": [
    "time = 500\n",
    "network = DiehlAndCook2015(100*100*2, dt=1.0, norm=2000, inh=3)\n",
    "exc_monitor = Monitor(network.layers['Ae'], ['v', 's'], time=time)\n",
    "network.add_monitor(exc_monitor, name='exc')"
   ]
  },
  {
   "cell_type": "code",
   "execution_count": 3,
   "metadata": {},
   "outputs": [],
   "source": [
    "track1 = pickle.load(open('test.p', 'rb'))"
   ]
  },
  {
   "cell_type": "code",
   "execution_count": 4,
   "metadata": {},
   "outputs": [],
   "source": [
    "def detect(spikes):\n",
    "    cols = torch.sum(spikes, dim=1)\n",
    "    for i, v in enumerate(cols):\n",
    "        if v != 0:\n",
    "            print(i, v)"
   ]
  },
  {
   "cell_type": "code",
   "execution_count": 7,
   "metadata": {},
   "outputs": [
    {
     "name": "stdout",
     "output_type": "stream",
     "text": [
      "28 tensor(17.)\n",
      "31 tensor(6.)\n",
      "42 tensor(8.)\n",
      "44 tensor(11.)\n",
      "93 tensor(7.)\n"
     ]
    },
    {
     "data": {
      "image/png": "[encoded data removed]",
      "text/plain": [
       "<Figure size 1440x1440 with 2 Axes>"
      ]
     },
     "metadata": {},
     "output_type": "display_data"
    }
   ],
   "source": [
    "for i in range(1, len(track1)):\n",
    "    try:\n",
    "        orig = torch.cat((track1[i-1], track1[i]), dim=1)\n",
    "        pt = orig.view(-1)\n",
    "        pt = poisson(pt, time)\n",
    "        \n",
    "        inpts = {'X': pt}\n",
    "        network.run(inpts=inpts, time=time)\n",
    "        spikes = exc_monitor.get('s')\n",
    "        \n",
    "        detect(spikes)\n",
    "        \n",
    "        fig = plt.figure(figsize=(20, 20))\n",
    "        plt.subplot(2, 2, 1)\n",
    "        plt.title(f'{i}')\n",
    "        plt.imshow(spikes, cmap='binary')\n",
    "        plt.subplot(2, 2, 2)\n",
    "        plt.imshow(orig, cmap='gist_gray')\n",
    "        plt.show()\n",
    "        \n",
    "        clear_output(wait=True)\n",
    "    except KeyboardInterrupt:\n",
    "        break"
   ]
  },
  {
   "cell_type": "code",
   "execution_count": 6,
   "metadata": {},
   "outputs": [],
   "source": [
    "network.save('trained.net')"
   ]
  }
 ],
 "metadata": {
  "kernelspec": {
   "display_name": "Python 3",
   "language": "python",
   "name": "python3"
  },
  "language_info": {
   "codemirror_mode": {
    "name": "ipython",
    "version": 3
   },
   "file_extension": ".py",
   "mimetype": "text/x-python",
   "name": "python",
   "nbconvert_exporter": "python",
   "pygments_lexer": "ipython3",
   "version": "3.6.5"
  }
 },
 "nbformat": 4,
 "nbformat_minor": 2
}
