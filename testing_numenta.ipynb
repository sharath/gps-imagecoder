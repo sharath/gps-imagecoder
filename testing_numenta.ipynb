{
 "cells": [
  {
   "cell_type": "code",
   "execution_count": null,
   "metadata": {},
   "outputs": [],
   "source": [
    "from bindsnet.network import load_network\n",
    "from bindsnet.encoding import poisson\n",
    "from bindsnet.analysis.plotting import plot_weights\n",
    "from IPython.display import clear_output\n",
    "import matplotlib.pyplot as plt\n",
    "import pickle\n",
    "import torch\n",
    "from encoder import *\n",
    "import time as T\n",
    "plt.rcParams[\"figure.figsize\"] = (20, 20)\n",
    "lfname = 'logs/' + str(int(T.time())) + '_anomaly.txt'"
   ]
  },
  {
   "cell_type": "code",
   "execution_count": null,
   "metadata": {},
   "outputs": [],
   "source": [
    "track = pickle.load(open('encoding/track3_numenta.p', 'rb'))*255"
   ]
  },
  {
   "cell_type": "code",
   "execution_count": null,
   "metadata": {},
   "outputs": [],
   "source": [
    "network = load_network('trained.net')\n",
    "network.connections[('X', 'Ae')].update_rule = None\n",
    "exc_monitor = network.monitors['exc']"
   ]
  },
  {
   "cell_type": "code",
   "execution_count": null,
   "metadata": {},
   "outputs": [],
   "source": [
    "time = 500"
   ]
  },
  {
   "cell_type": "code",
   "execution_count": null,
   "metadata": {},
   "outputs": [],
   "source": [
    "def log(msg):\n",
    "    print(msg, end='')\n",
    "    with open(lfname, 'a') as f:\n",
    "        f.write(msg)"
   ]
  },
  {
   "cell_type": "code",
   "execution_count": null,
   "metadata": {},
   "outputs": [],
   "source": [
    "def detect(spikes):\n",
    "    cols = torch.sum(spikes, dim=1)\n",
    "    for i, v in enumerate(cols):\n",
    "        if v != 0:\n",
    "            log(f'Neuron: {i} Spikes: {int(v)}\\n')"
   ]
  },
  {
   "cell_type": "code",
   "execution_count": null,
   "metadata": {},
   "outputs": [],
   "source": [
    "for i in range(4, len(track)):\n",
    "    orig = torch.cat((track[i-4], track[i-3], track[i-2], track[i-1], track[i]))\n",
    "    pt = poisson(orig, time)\n",
    "    \n",
    "    inpts = {'X': pt}\n",
    "    network.run(inpts=inpts, time=time)\n",
    "    spikes = exc_monitor.get('s')\n",
    "    # network.reset_()\n",
    "\n",
    "    log(f'Iteration {i - 3}\\n')\n",
    "    detect(spikes)\n",
    "    \n",
    "    fig = plt.figure(figsize=(20, 20))\n",
    "    plt.subplot(2, 2, 1)\n",
    "    plt.imshow(spikes, cmap='binary')\n",
    "    plt.subplot(2, 2, 2)\n",
    "    plt.imshow(orig.view(125, 40), cmap='gist_gray')\n",
    "    plt.show()\n",
    "    \n",
    "    clear_output(wait=True)"
   ]
  },
  {
   "cell_type": "code",
   "execution_count": null,
   "metadata": {},
   "outputs": [],
   "source": [
    "network.connections[('X', 'Ae')].w.shape"
   ]
  },
  {
   "cell_type": "code",
   "execution_count": null,
   "metadata": {},
   "outputs": [],
   "source": [
    "plot_weights(network.connections[('X', 'Ae')].w)"
   ]
  }
 ],
 "metadata": {
  "kernelspec": {
   "display_name": "Python 3",
   "language": "python",
   "name": "python3"
  },
  "language_info": {
   "codemirror_mode": {
    "name": "ipython",
    "version": 3
   },
   "file_extension": ".py",
   "mimetype": "text/x-python",
   "name": "python",
   "nbconvert_exporter": "python",
   "pygments_lexer": "ipython3",
   "version": "3.6.5"
  }
 },
 "nbformat": 4,
 "nbformat_minor": 2
}
