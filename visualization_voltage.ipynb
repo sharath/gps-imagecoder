{
 "cells": [
  {
   "cell_type": "code",
   "execution_count": 1,
   "metadata": {},
   "outputs": [],
   "source": [
    "import pandas as pd\n",
    "import os"
   ]
  },
  {
   "cell_type": "code",
   "execution_count": 2,
   "metadata": {},
   "outputs": [],
   "source": [
    "from bokeh.io import output_file, save\n",
    "from bokeh.palettes import Greys256, Viridis256\n",
    "from bokeh.models import LinearColorMapper, BasicTicker, PrintfTickFormatter, ColorBar\n",
    "from bokeh.plotting import figure"
   ]
  },
  {
   "cell_type": "code",
   "execution_count": 3,
   "metadata": {},
   "outputs": [],
   "source": [
    "try:\n",
    "    os.mkdir('output')\n",
    "except:\n",
    "    pass"
   ]
  },
  {
   "cell_type": "code",
   "execution_count": 4,
   "metadata": {},
   "outputs": [],
   "source": [
    "color = Greys256\n",
    "color.reverse()"
   ]
  },
  {
   "cell_type": "code",
   "execution_count": 5,
   "metadata": {},
   "outputs": [],
   "source": [
    "datafiles = ['logs/' + fn for fn in [x for x in os.listdir('logs/') if 'voltage.csv' in x]]"
   ]
  },
  {
   "cell_type": "code",
   "execution_count": 6,
   "metadata": {},
   "outputs": [
    {
     "data": {
      "text/plain": [
       "['logs/1533595117_track08_voltage.csv',\n",
       " 'logs/1533596758_track08_voltage.csv',\n",
       " 'logs/1533596728_track08_voltage.csv']"
      ]
     },
     "execution_count": 6,
     "metadata": {},
     "output_type": "execute_result"
    }
   ],
   "source": [
    "datafiles"
   ]
  },
  {
   "cell_type": "code",
   "execution_count": 7,
   "metadata": {},
   "outputs": [],
   "source": [
    "for file in datafiles:\n",
    "    df = pd.read_csv(file)\n",
    "    Iterations = [str(i) for i in sorted([x for x in set(df['Iteration'].tolist())])]\n",
    "    Neurons = [str(i) for i in sorted([x for x in set(df['Neuron'].tolist())])]\n",
    "    \n",
    "    df['Iteration'] = df['Iteration'].astype(str)\n",
    "    df['Neuron'] = df['Neuron'].astype(str)\n",
    "    \n",
    "    mapper = LinearColorMapper(palette=color, low=-70, high=200)\n",
    "    TOOLS = \"hover,pan,box_zoom,reset,wheel_zoom\"\n",
    "    \n",
    "    p = figure(title=file[16:-12],\n",
    "       x_range=Iterations[0::1], y_range=list(reversed(Neurons)),\n",
    "       x_axis_location=\"above\", plot_width=16*100, plot_height=9*100,\n",
    "       tools=TOOLS, toolbar_location='below')\n",
    "\n",
    "    p.grid.grid_line_color = None\n",
    "    p.axis.axis_line_color = None\n",
    "    p.axis.major_tick_line_color = None\n",
    "    p.axis.major_label_text_font_size = \"5pt\"\n",
    "    p.axis.major_label_standoff = 0\n",
    "    p.xaxis.major_label_orientation = 1\n",
    "    \n",
    "    p.rect(x=\"Iteration\", y=\"Neuron\", width=1, height=1,\n",
    "           source=df,\n",
    "           fill_color={'field': 'Voltage', 'transform': mapper},\n",
    "           line_color=None)\n",
    "    \n",
    "    color_bar = ColorBar(color_mapper=mapper, major_label_text_font_size=\"6pt\",\n",
    "                         ticker=BasicTicker(desired_num_ticks=10),\n",
    "                         formatter=PrintfTickFormatter(format=\"%d%%\"),\n",
    "                         label_standoff=6, border_line_color=None, location=(0, 0))\n",
    "    p.add_layout(color_bar, 'right')\n",
    "    \n",
    "    output_file(f'output/{file[5:-4]}.html')\n",
    "    save(p)"
   ]
  }
 ],
 "metadata": {
  "kernelspec": {
   "display_name": "Python 3",
   "language": "python",
   "name": "python3"
  },
  "language_info": {
   "codemirror_mode": {
    "name": "ipython",
    "version": 3
   },
   "file_extension": ".py",
   "mimetype": "text/x-python",
   "name": "python",
   "nbconvert_exporter": "python",
   "pygments_lexer": "ipython3",
   "version": "3.7.0"
  }
 },
 "nbformat": 4,
 "nbformat_minor": 2
}
