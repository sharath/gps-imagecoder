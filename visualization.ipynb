{
 "cells": [
  {
   "cell_type": "code",
   "execution_count": 1,
   "metadata": {},
   "outputs": [],
   "source": [
    "import pandas as pd\n",
    "import os"
   ]
  },
  {
   "cell_type": "code",
   "execution_count": 2,
   "metadata": {},
   "outputs": [],
   "source": [
    "from bokeh.io import output_file, save\n",
    "from bokeh.palettes import Greys256\n",
    "from bokeh.models import LinearColorMapper, BasicTicker, PrintfTickFormatter, ColorBar\n",
    "from bokeh.plotting import figure"
   ]
  },
  {
   "cell_type": "code",
   "execution_count": 3,
   "metadata": {},
   "outputs": [],
   "source": [
    "try:\n",
    "    os.mkdir('output')\n",
    "except:\n",
    "    pass"
   ]
  },
  {
   "cell_type": "code",
   "execution_count": 4,
   "metadata": {},
   "outputs": [],
   "source": [
    "Greys256.reverse()"
   ]
  },
  {
   "cell_type": "code",
   "execution_count": 5,
   "metadata": {},
   "outputs": [],
   "source": [
    "datafiles = ['logs/' + fn for fn in [x for x in os.listdir('logs/') if '.csv' in x]]"
   ]
  },
  {
   "cell_type": "code",
   "execution_count": 6,
   "metadata": {},
   "outputs": [],
   "source": [
    "for file in datafiles:\n",
    "    df = pd.read_csv(file)\n",
    "    \n",
    "    Iterations = [str(i) for i in sorted([x for x in set(df['Iteration'].tolist())])]\n",
    "    Neurons = [str(i) for i in sorted([x for x in set(df['Neuron'].tolist())])]\n",
    "    \n",
    "    df ['Iteration'] = df ['Iteration'].astype(str)\n",
    "    df ['Neuron'] = df ['Neuron'].astype(str)\n",
    "    \n",
    "    mapper = LinearColorMapper(palette=Greys256, low=min(df['Spikes']), high=max(df['Spikes']))\n",
    "    \n",
    "    TOOLS = \"hover,pan,box_zoom,reset,wheel_zoom\"\n",
    "    \n",
    "    p = figure(title=\"Spiking Neurons over Training Iterations\",\n",
    "           x_range=Iterations[0::10], y_range=list(reversed(Neurons)),\n",
    "           x_axis_location=\"above\", plot_width=1920, plot_height=1080,\n",
    "           tools=TOOLS, toolbar_location='below')\n",
    "\n",
    "    p.grid.grid_line_color = None\n",
    "    p.axis.axis_line_color = None\n",
    "    p.axis.major_tick_line_color = None\n",
    "    p.axis.major_label_text_font_size = \"5pt\"\n",
    "    p.axis.major_label_standoff = 0\n",
    "    p.xaxis.major_label_orientation = 1\n",
    "    \n",
    "    p.rect(x=\"Iteration\", y=\"Neuron\", width=1, height=1,\n",
    "           source=df,\n",
    "           fill_color={'field': 'Spikes', 'transform': mapper},\n",
    "           line_color=None)\n",
    "    \n",
    "    color_bar = ColorBar(color_mapper=mapper, major_label_text_font_size=\"5pt\",\n",
    "                         ticker=BasicTicker(desired_num_ticks=len(Greys256)),\n",
    "                         formatter=PrintfTickFormatter(format=\"%d%%\"),\n",
    "                         label_standoff=6, border_line_color=None, location=(0, 0))\n",
    "    p.add_layout(color_bar, 'right')\n",
    "    \n",
    "    output_file(f'output/{file[5:-4]}.html')\n",
    "    save(p)"
   ]
  }
 ],
 "metadata": {
  "kernelspec": {
   "display_name": "Python 3",
   "language": "python",
   "name": "python3"
  },
  "language_info": {
   "codemirror_mode": {
    "name": "ipython",
    "version": 3
   },
   "file_extension": ".py",
   "mimetype": "text/x-python",
   "name": "python",
   "nbconvert_exporter": "python",
   "pygments_lexer": "ipython3",
   "version": "3.6.5"
  }
 },
 "nbformat": 4,
 "nbformat_minor": 2
}
