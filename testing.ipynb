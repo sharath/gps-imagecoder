{
 "cells": [
  {
   "cell_type": "code",
   "execution_count": 1,
   "metadata": {},
   "outputs": [],
   "source": [
    "import torch\n",
    "import numpy as np\n",
    "from encoder import *\n",
    "import matplotlib.pyplot as plt\n",
    "from IPython.display import clear_output"
   ]
  },
  {
   "cell_type": "code",
   "execution_count": 2,
   "metadata": {},
   "outputs": [
    {
     "name": "stderr",
     "output_type": "stream",
     "text": [
      "100%|██████████| 210/210 [01:55<00:00,  1.81it/s]\n"
     ]
    }
   ],
   "source": [
    "rest = encode('dataset1/track1.csv', int(50000), 400, save=True)"
   ]
  },
  {
   "cell_type": "code",
   "execution_count": 7,
   "metadata": {},
   "outputs": [],
   "source": [
    "torch.save(rest, 'rtest.pt')"
   ]
  },
  {
   "cell_type": "code",
   "execution_count": 8,
   "metadata": {},
   "outputs": [],
   "source": [
    "def count(t):\n",
    "    t = sum(t)\n",
    "    c = 0\n",
    "    for i in t:\n",
    "        if i != 0:\n",
    "            c += 1\n",
    "    return c"
   ]
  },
  {
   "cell_type": "code",
   "execution_count": 9,
   "metadata": {},
   "outputs": [
    {
     "name": "stdout",
     "output_type": "stream",
     "text": [
      "70 4\n",
      "71 3\n",
      "72 2\n",
      "73 2\n",
      "74 2\n",
      "75 2\n",
      "76 2\n",
      "77 2\n",
      "78 2\n",
      "79 2\n",
      "80 2\n",
      "81 2\n",
      "82 2\n",
      "83 2\n",
      "84 2\n",
      "85 2\n",
      "86 2\n",
      "87 3\n",
      "88 3\n",
      "89 3\n",
      "90 3\n",
      "91 2\n",
      "92 2\n",
      "93 2\n",
      "94 2\n",
      "95 3\n",
      "96 3\n",
      "97 3\n",
      "98 3\n",
      "99 3\n",
      "100 2\n",
      "101 2\n",
      "102 2\n",
      "103 3\n",
      "104 3\n",
      "105 3\n",
      "106 3\n",
      "107 3\n",
      "108 3\n",
      "109 3\n",
      "110 3\n",
      "111 3\n",
      "112 3\n",
      "113 3\n",
      "114 3\n",
      "115 3\n",
      "116 3\n",
      "117 3\n",
      "118 3\n",
      "119 3\n",
      "120 3\n",
      "121 3\n",
      "122 3\n",
      "123 3\n",
      "124 2\n",
      "125 3\n",
      "126 3\n",
      "127 3\n",
      "128 3\n",
      "129 2\n",
      "130 2\n",
      "131 2\n",
      "132 2\n",
      "133 3\n",
      "134 3\n",
      "135 3\n",
      "136 3\n",
      "137 3\n",
      "138 3\n",
      "139 3\n",
      "140 2\n",
      "141 2\n",
      "142 2\n",
      "143 2\n",
      "144 2\n",
      "145 2\n",
      "146 3\n",
      "147 3\n",
      "148 3\n",
      "149 3\n",
      "150 2\n",
      "151 3\n",
      "152 3\n",
      "153 3\n",
      "154 2\n",
      "155 2\n",
      "156 2\n",
      "157 2\n",
      "158 2\n",
      "159 2\n",
      "160 2\n",
      "161 2\n",
      "162 2\n",
      "163 3\n",
      "164 3\n",
      "165 2\n",
      "166 2\n",
      "167 2\n",
      "168 2\n",
      "169 2\n",
      "170 3\n",
      "171 4\n",
      "206 4\n",
      "207 4\n",
      "208 4\n",
      "209 4\n"
     ]
    }
   ],
   "source": [
    "for i in range(len(rest)):\n",
    "    if count(rest[i]) != 5:\n",
    "        print(i, count(rest[i]))\n",
    "    # plt.figure()\n",
    "    # plt.imshow(rest[i], cmap='binary')\n",
    "    # plt.show()\n",
    "    # clear_output(wait=True)"
   ]
  },
  {
   "cell_type": "code",
   "execution_count": 6,
   "metadata": {},
   "outputs": [
    {
     "data": {
      "text/plain": [
       "<matplotlib.image.AxesImage at 0x107097c88>"
      ]
     },
     "execution_count": 6,
     "metadata": {},
     "output_type": "execute_result"
    },
    {
     "data": {
      "image/png": "[encoded data removed]",
      "text/plain": [
       "<Figure size 432x288 with 1 Axes>"
      ]
     },
     "metadata": {},
     "output_type": "display_data"
    }
   ],
   "source": [
    "plt.imshow(rest[13], cmap='binary', interpolation='nearest', aspect='auto')"
   ]
  },
  {
   "cell_type": "code",
   "execution_count": null,
   "metadata": {},
   "outputs": [],
   "source": []
  }
 ],
 "metadata": {
  "kernelspec": {
   "display_name": "Python 3",
   "language": "python",
   "name": "python3"
  },
  "language_info": {
   "codemirror_mode": {
    "name": "ipython",
    "version": 3
   },
   "file_extension": ".py",
   "mimetype": "text/x-python",
   "name": "python",
   "nbconvert_exporter": "python",
   "pygments_lexer": "ipython3",
   "version": "3.6.5"
  }
 },
 "nbformat": 4,
 "nbformat_minor": 2
}
