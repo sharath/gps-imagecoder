{
 "cells": [
  {
   "cell_type": "code",
   "execution_count": 1,
   "metadata": {},
   "outputs": [],
   "source": [
    "import torch\n",
    "import matplotlib.pyplot as plt\n",
    "from IPython.display import clear_output\n",
    "from bindsnet.models import GPSModel\n",
    "from bindsnet.network.monitors import Monitor\n",
    "from bindsnet.encoding import poisson\n",
    "import time as T\n",
    "import os\n",
    "plt.rcParams[\"figure.figsize\"] = (20, 20)\n",
    "start_time = str(int(T.time()))"
   ]
  },
  {
   "cell_type": "code",
   "execution_count": 2,
   "metadata": {},
   "outputs": [],
   "source": [
    "try:\n",
    "    os.mkdir('logs')\n",
    "except:\n",
    "    pass"
   ]
  },
  {
   "cell_type": "code",
   "execution_count": 3,
   "metadata": {},
   "outputs": [],
   "source": [
    "def logs(track_n, msg):\n",
    "    lfname = f'logs/{start_time}_track{track_n+1:02d}_spikes.csv'\n",
    "    with open(lfname, 'a') as f:\n",
    "        f.write(msg)\n",
    "def logv(track_n, msg):\n",
    "    lfname = f'logs/{start_time}_track{track_n+1:02d}_voltage.csv'\n",
    "    with open(lfname, 'a') as f:\n",
    "        f.write(msg)"
   ]
  },
  {
   "cell_type": "code",
   "execution_count": 4,
   "metadata": {},
   "outputs": [],
   "source": [
    "def vmax(voltages):\n",
    "    t = []\n",
    "    for i in range(len(voltages)):\n",
    "        t.append(max(voltages[i]))\n",
    "    return torch.tensor(t)"
   ]
  },
  {
   "cell_type": "code",
   "execution_count": 5,
   "metadata": {},
   "outputs": [],
   "source": [
    "def relax(network, time):\n",
    "    img = torch.zeros(5000)\n",
    "    inpts = {'X': poisson(img, time)}\n",
    "    network.run(inpts=inpts, time=time)"
   ]
  },
  {
   "cell_type": "code",
   "execution_count": 6,
   "metadata": {},
   "outputs": [],
   "source": [
    "time = 500\n",
    "plot = False\n",
    "network = GPSModel(5000, dt=1.0, norm=48.95, inh=3)\n",
    "exc_monitor = Monitor(network.layers['Ae'], ['v', 's'], time=time)\n",
    "network.add_monitor(exc_monitor, name='exc')"
   ]
  },
  {
   "cell_type": "code",
   "execution_count": 7,
   "metadata": {},
   "outputs": [],
   "source": [
    "# enc_files = sorted([x for x in os.listdir('encoding/') if '_train.p' in x])\n",
    "enc_files = [sorted([x for x in os.listdir('encoding/') if '_train.p' in x])[0]] * 60\n",
    "tracks = [(255*torch.load(open('encoding/' + fn, 'rb'))) for fn in enc_files]"
   ]
  },
  {
   "cell_type": "code",
   "execution_count": 8,
   "metadata": {},
   "outputs": [
    {
     "name": "stdout",
     "output_type": "stream",
     "text": [
      "['track01_train.p', 'track01_train.p', 'track01_train.p', 'track01_train.p', 'track01_train.p', 'track01_train.p', 'track01_train.p', 'track01_train.p', 'track01_train.p', 'track01_train.p', 'track01_train.p', 'track01_train.p', 'track01_train.p', 'track01_train.p', 'track01_train.p', 'track01_train.p', 'track01_train.p', 'track01_train.p', 'track01_train.p', 'track01_train.p', 'track01_train.p', 'track01_train.p', 'track01_train.p', 'track01_train.p', 'track01_train.p', 'track01_train.p', 'track01_train.p', 'track01_train.p', 'track01_train.p', 'track01_train.p', 'track01_train.p', 'track01_train.p', 'track01_train.p', 'track01_train.p', 'track01_train.p', 'track01_train.p', 'track01_train.p', 'track01_train.p', 'track01_train.p', 'track01_train.p', 'track01_train.p', 'track01_train.p', 'track01_train.p', 'track01_train.p', 'track01_train.p', 'track01_train.p', 'track01_train.p', 'track01_train.p', 'track01_train.p', 'track01_train.p', 'track01_train.p', 'track01_train.p', 'track01_train.p', 'track01_train.p', 'track01_train.p', 'track01_train.p', 'track01_train.p', 'track01_train.p', 'track01_train.p', 'track01_train.p']\n"
     ]
    }
   ],
   "source": [
    "print(enc_files)"
   ]
  },
  {
   "cell_type": "code",
   "execution_count": null,
   "metadata": {
    "scrolled": false
   },
   "outputs": [
    {
     "name": "stdout",
     "output_type": "stream",
     "text": [
      "Track 0   Iteration 174\n"
     ]
    }
   ],
   "source": [
    "for track_n in range(len(tracks)):\n",
    "    logs(track_n, 'Iteration,Neuron,Spikes\\n')\n",
    "    logv(track_n, 'Iteration,Neuron,Voltage\\n')\n",
    "    \n",
    "    track = tracks[track_n]\n",
    "    for i in range(4, len(track)):\n",
    "        print(f'Track {track_n}   Iteration {i-3}')\n",
    "        \n",
    "        orig = torch.cat((track[i-4], track[i-3], track[i-2], track[i-1], track[i]))\n",
    "        pt = poisson(orig, time)\n",
    "        \n",
    "        inpts = {'X': pt}\n",
    "        network.run(inpts=inpts, time=time)\n",
    "        spikes = exc_monitor.get('s')\n",
    "        voltage = exc_monitor.get('v')\n",
    "        relax(network, 50)\n",
    "        \n",
    "        for neuron, value in enumerate(torch.sum(spikes, dim=1)):\n",
    "            logs(track_n, f'{i-4},{neuron},{int(value)}\\n')\n",
    "    \n",
    "    \n",
    "        for neuron, value in enumerate(vmax(voltage)):\n",
    "            logv(track_n, f'{i-4},{neuron},{int(value)}\\n')\n",
    "        \n",
    "        if plot:\n",
    "            fig = plt.figure(figsize=(20, 20))\n",
    "            plt.subplot(2, 2, 1)\n",
    "            plt.imshow(spikes, cmap='binary')\n",
    "            plt.subplot(2, 2, 2)\n",
    "            plt.imshow(orig.view(125, 40), cmap='gist_gray')\n",
    "            plt.show()\n",
    "            \n",
    "        clear_output(wait=True)\n",
    "network.save('trained.net')"
   ]
  }
 ],
 "metadata": {
  "kernelspec": {
   "display_name": "Python 3",
   "language": "python",
   "name": "python3"
  },
  "language_info": {
   "codemirror_mode": {
    "name": "ipython",
    "version": 3
   },
   "file_extension": ".py",
   "mimetype": "text/x-python",
   "name": "python",
   "nbconvert_exporter": "python",
   "pygments_lexer": "ipython3",
   "version": "3.6.6"
  }
 },
 "nbformat": 4,
 "nbformat_minor": 2
}
