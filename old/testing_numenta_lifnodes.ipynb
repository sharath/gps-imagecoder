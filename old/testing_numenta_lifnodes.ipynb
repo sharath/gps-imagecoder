{
 "cells": [
  {
   "cell_type": "code",
   "execution_count": 1,
   "metadata": {},
   "outputs": [],
   "source": [
    "from bindsnet.network import load_network\n",
    "from bindsnet.network.nodes import LIFNodes\n",
    "from bindsnet.encoding import poisson\n",
    "from bindsnet.analysis.plotting import plot_weights\n",
    "from IPython.display import clear_output\n",
    "import matplotlib.pyplot as plt\n",
    "import pickle\n",
    "import torch\n",
    "import time as T\n",
    "plt.rcParams[\"figure.figsize\"] = (20, 20)\n",
    "start_time = str(int(T.time()))"
   ]
  },
  {
   "cell_type": "code",
   "execution_count": 2,
   "metadata": {},
   "outputs": [],
   "source": [
    "track = 255*torch.load(open('encoding/track08_numenta.p', 'rb'))"
   ]
  },
  {
   "cell_type": "code",
   "execution_count": 3,
   "metadata": {},
   "outputs": [],
   "source": [
    "network = load_network('trained.net')\n",
    "network.connections[('X', 'Ae')].update_rule = None\n",
    "exc_monitor = network.monitors['exc']\n",
    "del network.layers['Ae']\n",
    "network.add_layer(LIFNodes(n=100, traces=True, rest=-65.0, reset=-60.0, thresh=-52.0, refrac=5, decay=1e-2, trace_tc=5e-2), name='Ae')\n",
    "network.connections[('X', 'Ae')].target = network.layers['Ae']\n",
    "network.connections[('Ae', 'Ai')].source = network.layers['Ae']\n",
    "network.connections[('Ai', 'Ae')].target = network.layers['Ae']"
   ]
  },
  {
   "cell_type": "code",
   "execution_count": 4,
   "metadata": {},
   "outputs": [],
   "source": [
    "plot = False\n",
    "time = 500"
   ]
  },
  {
   "cell_type": "code",
   "execution_count": 5,
   "metadata": {},
   "outputs": [],
   "source": [
    "def logs(track_n, msg):\n",
    "    lfname = f'logs/{start_time}_track{track_n+1:02d}_spikes.csv'\n",
    "    with open(lfname, 'a') as f:\n",
    "        f.write(msg)\n",
    "def logv(track_n, msg):\n",
    "    lfname = f'logs/{start_time}_track{track_n+1:02d}_voltage.csv'\n",
    "    with open(lfname, 'a') as f:\n",
    "        f.write(msg)"
   ]
  },
  {
   "cell_type": "code",
   "execution_count": 6,
   "metadata": {},
   "outputs": [],
   "source": [
    "def vmax(voltages):\n",
    "    t = []\n",
    "    for i in range(len(voltages)):\n",
    "        t.append(max(voltages[i]))\n",
    "    return torch.tensor(t)"
   ]
  },
  {
   "cell_type": "code",
   "execution_count": 7,
   "metadata": {},
   "outputs": [
    {
     "name": "stdout",
     "output_type": "stream",
     "text": [
      "Iteration 1071\n"
     ]
    }
   ],
   "source": [
    "logs(7, 'Iteration,Neuron,Spikes\\n')\n",
    "logv(7, 'Iteration,Neuron,Voltage\\n')\n",
    "for i in range(4, len(track)):\n",
    "    print(f'Iteration {i-3}')\n",
    "    \n",
    "    orig = torch.cat((track[i-4], track[i-3], track[i-2], track[i-1], track[i]))\n",
    "    pt = poisson(orig, time)\n",
    "    \n",
    "    inpts = {'X': pt}\n",
    "    network.run(inpts=inpts, time=time)\n",
    "    spikes = exc_monitor.get('s')\n",
    "    voltage = exc_monitor.get('v')\n",
    "    network.reset_()\n",
    "    \n",
    "    for neuron, value in enumerate(torch.sum(spikes, dim=1)):\n",
    "        logs(7, f'{i-4},{neuron},{int(value)}\\n')\n",
    "        \n",
    "    \n",
    "    for neuron, value in enumerate(vmax(voltage)):\n",
    "        logv(7, f'{i-4},{neuron},{int(value)}\\n')\n",
    "    \n",
    "    if plot:\n",
    "        fig = plt.figure(figsize=(20, 20))\n",
    "        plt.subplot(2, 2, 1)\n",
    "        plt.imshow(spikes, cmap='binary')\n",
    "        plt.subplot(2, 2, 2)\n",
    "        plt.imshow(orig.view(125, 40), cmap='gist_gray')\n",
    "        plt.show()\n",
    "        \n",
    "    clear_output(wait=True)"
   ]
  }
 ],
 "metadata": {
  "kernelspec": {
   "display_name": "Python 3",
   "language": "python",
   "name": "python3"
  },
  "language_info": {
   "codemirror_mode": {
    "name": "ipython",
    "version": 3
   },
   "file_extension": ".py",
   "mimetype": "text/x-python",
   "name": "python",
   "nbconvert_exporter": "python",
   "pygments_lexer": "ipython3",
   "version": "3.7.0"
  }
 },
 "nbformat": 4,
 "nbformat_minor": 2
}
