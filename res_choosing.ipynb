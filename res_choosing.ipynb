{
 "cells": [
  {
   "cell_type": "code",
   "execution_count": null,
   "metadata": {},
   "outputs": [],
   "source": [
    "import torch\n",
    "import time\n",
    "import pickle\n",
    "import numpy as np\n",
    "from encoder import *\n",
    "import matplotlib.pyplot as plt\n",
    "from IPython.display import clear_output"
   ]
  },
  {
   "cell_type": "code",
   "execution_count": null,
   "metadata": {},
   "outputs": [],
   "source": [
    "tracks = ['test_normal', 'test_anomaly']\n",
    "encodings = []\n",
    "for track in tracks:\n",
    "    encoding = encode('dataset/'+track+'.csv', int(50000), 100)\n",
    "    encodings.append(encoding)\n",
    "    with open('encoding/'+track+'.p', 'wb') as f:\n",
    "        pickle.dump(encoding, f)"
   ]
  },
  {
   "cell_type": "code",
   "execution_count": null,
   "metadata": {},
   "outputs": [],
   "source": [
    "def count(t):\n",
    "    c = 0\n",
    "    for i in range(len(t)):\n",
    "        for j in range(len(t[i])):\n",
    "            if t[i][j] != 0:\n",
    "                c += 1\n",
    "    return c"
   ]
  },
  {
   "cell_type": "code",
   "execution_count": null,
   "metadata": {},
   "outputs": [],
   "source": [
    "rest = encodings[0]\n",
    "for i in range(len(rest)):\n",
    "    plt.figure()\n",
    "    plt.imshow(rest[i], cmap='gist_gray')\n",
    "    plt.show()\n",
    "    if count(rest[i]) != 5:\n",
    "        print(f'Iteration {i} Points {count(rest[i])}')\n",
    "        time.sleep(4)\n",
    "    clear_output(wait=True)"
   ]
  },
  {
   "cell_type": "code",
   "execution_count": null,
   "metadata": {},
   "outputs": [],
   "source": [
    "rest = encodings[1]\n",
    "for i in range(len(rest)):\n",
    "    plt.figure()\n",
    "    plt.imshow(rest[i], cmap='gist_gray')\n",
    "    plt.show()\n",
    "    if count(rest[i]) != 5:\n",
    "        print(f'Iteration {i} Points {count(rest[i])}')\n",
    "        time.sleep(4)\n",
    "    clear_output(wait=True)"
   ]
  }
 ],
 "metadata": {
  "kernelspec": {
   "display_name": "Python 3",
   "language": "python",
   "name": "python3"
  },
  "language_info": {
   "codemirror_mode": {
    "name": "ipython",
    "version": 3
   },
   "file_extension": ".py",
   "mimetype": "text/x-python",
   "name": "python",
   "nbconvert_exporter": "python",
   "pygments_lexer": "ipython3",
   "version": "3.6.5"
  }
 },
 "nbformat": 4,
 "nbformat_minor": 2
}
